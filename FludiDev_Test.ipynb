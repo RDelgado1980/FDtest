{
  "nbformat": 4,
  "nbformat_minor": 0,
  "metadata": {
    "colab": {
      "name": "FludiDev-Test.ipynb",
      "provenance": [],
      "collapsed_sections": []
    },
    "kernelspec": {
      "name": "python3",
      "display_name": "Python 3"
    },
    "language_info": {
      "name": "python"
    }
  },
  "cells": [
    {
      "cell_type": "markdown",
      "source": [
        "# FluidDev Test\n",
        "\n",
        "Conversion from 2D Cartesian Bounding Box to 3D Spherical Bounding Box."
      ],
      "metadata": {
        "id": "ZdlEOvYIzD2J"
      }
    },
    {
      "cell_type": "code",
      "source": [
        "# Imports\n",
        "import math\n",
        "from typing import List"
      ],
      "metadata": {
        "id": "CsU-cZ8AzHHG"
      },
      "execution_count": 1,
      "outputs": []
    },
    {
      "cell_type": "code",
      "source": [
        "# Initialization constants\n",
        "# Lens constants assuming a 1080p image\n",
        "f = 714.285714\n",
        "center = [960, 540]\n",
        "D = 1.082984  # For image-1, switch to 0.871413 for image-2"
      ],
      "metadata": {
        "id": "RIaXVkKu1PHP"
      },
      "execution_count": 2,
      "outputs": []
    },
    {
      "cell_type": "code",
      "source": [
        "# Utility functions\n",
        "def cartesian2sphere(pt):\n",
        "    x = (pt[0] - center[0]) / f\n",
        "    y = (pt[1] - center[1]) / f\n",
        "\n",
        "    r = math.sqrt(x*x + y*y)\n",
        "    if r != 0:\n",
        "        x /= r\n",
        "        y /= r\n",
        "    r *= D\n",
        "    sin_theta = math.sin(r)\n",
        "    x *= sin_theta\n",
        "    y *= sin_theta\n",
        "    z = math.cos(r)\n",
        "\n",
        "    return [x, y, z]\n",
        "\n",
        "\n",
        "def sphere2cartesian(pt):\n",
        "    r = math.acos(pt[2])\n",
        "    r /= D\n",
        "    if pt[2] != 1:\n",
        "        r /= math.sqrt(1 - pt[2] * pt[2])\n",
        "    x = r * pt[0] * f + center[0]\n",
        "    y = r * pt[1] * f + center[1]\n",
        "    return [x, y]\n",
        "\n",
        "\n",
        "def convert_point(point: List[int]) -> List[int]:\n",
        "    \"\"\"Convert single points between Cartesian and spherical coordinate systems\"\"\"\n",
        "    if len(point) == 2:\n",
        "        return cartesian2sphere(point)\n",
        "    elif len(point) == 3:\n",
        "        return sphere2cartesian(point)\n",
        "    else:\n",
        "        raise ValueError(f'Expected point to be 2 or 3D, got {len(point)} dimensions')"
      ],
      "metadata": {
        "id": "dDDcNLwj1Ts-"
      },
      "execution_count": 3,
      "outputs": []
    },
    {
      "cell_type": "markdown",
      "source": [
        "Using the utility functions, it is possible to convert a list of 2D Cartesian points (x,y) to 3D spherical points, and viceversa. Let's see some examples:"
      ],
      "metadata": {
        "id": "J5YHYhPg11JD"
      }
    },
    {
      "cell_type": "code",
      "source": [
        "cartesian_point = [100, 200] # (x,y)\n",
        "spherical_point = [100, 200, 0.5] # (x,y,z)\n",
        "\n",
        "# Cartesian to spherical\n",
        "cartesian_to_spherical = convert_point(cartesian_point)\n",
        "print(f'The point {cartesian_point} in Spherical Coordinates is {cartesian_to_spherical}')\n",
        "\n",
        "# Spherical to Cartesian\n",
        "spherical_to_cartesian = convert_point(spherical_point)\n",
        "print(f'The point {spherical_point} in Cartesian Coordinates is {spherical_to_cartesian}')"
      ],
      "metadata": {
        "colab": {
          "base_uri": "https://localhost:8080/"
        },
        "id": "tszptijq1Xg3",
        "outputId": "110f96a5-22d7-41ea-cf0c-12958611dee5"
      },
      "execution_count": 4,
      "outputs": [
        {
          "output_type": "stream",
          "name": "stdout",
          "text": [
            "The point [100, 200] in Spherical Coordinates is [-0.9167619380064861, -0.3624407661886107, 0.16788162504337606]\n",
            "The point [100, 200, 0.5] in Cartesian Coordinates is [80713.16187710896, 160046.3237542179]\n"
          ]
        }
      ]
    },
    {
      "cell_type": "markdown",
      "source": [
        "Now, based on the fact that we can convert from Cartesian to Spherical Coordinates, we wish to be able to convert a Cartesian Bounding Box, to a Spherical Bounding Box.\n",
        "\n",
        "First, for the sake of simplicity, we are going to define the bounding box as a list containing the coordinates of upper left corner as (xmin, ymin) and lower right corner as (xmax, ymax):"
      ],
      "metadata": {
        "id": "V_-X2Vge4HAr"
      }
    },
    {
      "cell_type": "code",
      "source": [
        "# Simplest bounding box\n",
        "# Format is xmin ymin xmax ymax\n",
        "cartesianBox = [100, 50, 200, 100]"
      ],
      "metadata": {
        "id": "HSPcsmls3eQK"
      },
      "execution_count": 5,
      "outputs": []
    },
    {
      "cell_type": "markdown",
      "source": [
        "Now, when converting from Cartesian to Spherical, the new variable z will vary depending on the (x,y) positions. In order to define a Spherical Bounding Box, since it is 3D, we would need to know the vertices of the cube that encloses the projected 2D bounding box in the spherical surface. But since positions (x,y) are the same for the lower and upper layers of that 3D cube, we can use the upper left and lower right coordinates of the cube to define the 3D Bounding Box, as well as the z coordinate for the upper layer and the lower layer.\n",
        "\n",
        "So, depending on the coordinates of the cartesian box, we need to get the z values of all vertices of the cartesian box in order to know the lowest and higest values of z in spherical coordinates:"
      ],
      "metadata": {
        "id": "vCXVa-lW6q7Z"
      }
    },
    {
      "cell_type": "code",
      "source": [
        "# Given the cartesian box, extract vertices of 2D box\n",
        "upperLeft = [cartesianBox[0], cartesianBox[1]]\n",
        "upperRight = [cartesianBox[2], cartesianBox[1]]\n",
        "lowerLeft = [cartesianBox[0], cartesianBox[3]]\n",
        "lowerRight = [cartesianBox[2], cartesianBox[3]]\n",
        "\n",
        "# Store the box vertices\n",
        "box_vertices = [upperLeft, upperRight, lowerLeft, lowerRight]\n",
        "\n",
        "# Calculate the spherical coordinates of the vertices\n",
        "spherical_coordinates = [convert_point(point) for point in box_vertices]\n",
        "\n",
        "# From the spherical coordinates, extract the lower and higher z values\n",
        "min_z = min([p[2] for p in spherical_coordinates])\n",
        "max_z = max([p[2] for p in spherical_coordinates])"
      ],
      "metadata": {
        "id": "Ur4diASv6qYS"
      },
      "execution_count": 6,
      "outputs": []
    },
    {
      "cell_type": "markdown",
      "source": [
        "Now, to enclose the Cartesian Bounding Box in the Spherical system, I will find the lowest x and y spherical coordinates, and the highest x and y spherical coordinates, in order to define the corner vertices of the final enclosing Spherical Bounding Box:"
      ],
      "metadata": {
        "id": "2lh4WvxtGRGm"
      }
    },
    {
      "cell_type": "code",
      "source": [
        "spherical_coordinates"
      ],
      "metadata": {
        "colab": {
          "base_uri": "https://localhost:8080/"
        },
        "id": "N5Zg0zUpEiov",
        "outputId": "04b83e8b-c9c2-46ca-db46-47a6dde9b559"
      },
      "execution_count": 7,
      "outputs": [
        {
          "output_type": "execute_result",
          "data": {
            "text/plain": [
              "[[-0.8667310596165098, -0.4938351386187091, 0.0700294663801069],\n",
              " [-0.8237449485887304, -0.5310987168532604, 0.19843994716631608],\n",
              " [-0.8852387784979313, -0.4529128634175462, 0.10593508953321185],\n",
              " [-0.840761193211832, -0.48675648028053425, 0.2370416522342064]]"
            ]
          },
          "metadata": {},
          "execution_count": 7
        }
      ]
    },
    {
      "cell_type": "code",
      "source": [
        "# From the spherical coordinates, extract the lower and higher x and y values\n",
        "xmin_spherical = min([p[0] for p in spherical_coordinates])\n",
        "xmax_spherical = max([p[0] for p in spherical_coordinates])\n",
        "ymin_spherical = min([p[1] for p in spherical_coordinates])\n",
        "ymax_spherical = max([p[1] for p in spherical_coordinates])"
      ],
      "metadata": {
        "id": "1wL7EcwxGvIu"
      },
      "execution_count": 8,
      "outputs": []
    },
    {
      "cell_type": "markdown",
      "source": [
        "Finally, the corner vertices of the Spherical Bounding Box will be:"
      ],
      "metadata": {
        "id": "EXQ0hFpYIXo5"
      }
    },
    {
      "cell_type": "code",
      "source": [
        "# Format is xmin, ymin, zmin, xmax, ymax, zmax\n",
        "sphericalBox = [xmin_spherical, ymin_spherical, min_z, xmax_spherical, ymax_spherical, max_z]\n",
        "sphericalBox"
      ],
      "metadata": {
        "colab": {
          "base_uri": "https://localhost:8080/"
        },
        "id": "tgDoxugfHTG_",
        "outputId": "9524a9aa-c889-4212-dcfc-720e532b52dd"
      },
      "execution_count": 9,
      "outputs": [
        {
          "output_type": "execute_result",
          "data": {
            "text/plain": [
              "[-0.8852387784979313,\n",
              " -0.5310987168532604,\n",
              " 0.0700294663801069,\n",
              " -0.8237449485887304,\n",
              " -0.4529128634175462,\n",
              " 0.2370416522342064]"
            ]
          },
          "metadata": {},
          "execution_count": 9
        }
      ]
    },
    {
      "cell_type": "markdown",
      "source": [
        "Let's write a function that condenses the calculation:"
      ],
      "metadata": {
        "id": "YLj5Z1JKI8vX"
      }
    },
    {
      "cell_type": "code",
      "source": [
        "def bbox_to_spherical(cartesian):\n",
        "  # Given the cartesian box, extract vertices of 2D box\n",
        "  upperLeft = [cartesian[0], cartesian[1]]\n",
        "  upperRight = [cartesian[2], cartesian[1]]\n",
        "  lowerLeft = [cartesian[0], cartesian[3]]\n",
        "  lowerRight = [cartesian[2], cartesian[3]]\n",
        "\n",
        "  # Store the box vertices\n",
        "  box_vertices = [upperLeft, upperRight, lowerLeft, lowerRight]\n",
        "\n",
        "  # Calculate the spherical coordinates of the vertices\n",
        "  spherical_coordinates = [convert_point(point) for point in box_vertices]\n",
        "\n",
        "  # From the spherical coordinates, extract the lower and higher z values\n",
        "  min_z = min([p[2] for p in spherical_coordinates])\n",
        "  max_z = max([p[2] for p in spherical_coordinates])\n",
        "\n",
        "  # From the spherical coordinates, extract the lower and higher x and y values\n",
        "  xmin_spherical = min([p[0] for p in spherical_coordinates])\n",
        "  xmax_spherical = max([p[0] for p in spherical_coordinates])\n",
        "  ymin_spherical = min([p[1] for p in spherical_coordinates])\n",
        "  ymax_spherical = max([p[1] for p in spherical_coordinates])\n",
        "\n",
        "  # Define spherical Box\n",
        "  sphericalBox = [xmin_spherical, ymin_spherical, min_z, xmax_spherical, ymax_spherical, max_z]\n",
        "\n",
        "  return sphericalBox"
      ],
      "metadata": {
        "id": "7SD8FzL0Is2H"
      },
      "execution_count": 10,
      "outputs": []
    },
    {
      "cell_type": "code",
      "source": [
        "# Convert Cartesian Box to Spherical Box\n",
        "mysphericalBox = bbox_to_spherical(cartesianBox)\n",
        "mysphericalBox"
      ],
      "metadata": {
        "colab": {
          "base_uri": "https://localhost:8080/"
        },
        "id": "WEqYpCMoJcxC",
        "outputId": "2f9e3697-1398-474f-d62a-32353fb8ce49"
      },
      "execution_count": 11,
      "outputs": [
        {
          "output_type": "execute_result",
          "data": {
            "text/plain": [
              "[-0.8852387784979313,\n",
              " -0.5310987168532604,\n",
              " 0.0700294663801069,\n",
              " -0.8237449485887304,\n",
              " -0.4529128634175462,\n",
              " 0.2370416522342064]"
            ]
          },
          "metadata": {},
          "execution_count": 11
        }
      ]
    },
    {
      "cell_type": "markdown",
      "source": [
        "Now, can we generalize this calculation for any given Polygon in 2D Cartesian space?\n",
        "\n",
        "Let's say we define a Cartesian Polygon by randomly selecting cartesian points in and adequate interval, and let's asume that we join those points by lines in a way that we get a convex polygon (but it could also be no convex):"
      ],
      "metadata": {
        "id": "8uiLdPczOyU3"
      }
    },
    {
      "cell_type": "code",
      "source": [
        "# Randomly define vertices points of a Cartesian polygon\n",
        "import random\n",
        "\n",
        "Nsides = 10\n",
        "polygon_vertices = [[random.randint(0, 100), random.randint(0, 150)] for i in range(Nsides)]"
      ],
      "metadata": {
        "id": "9exzBuP7Meb0"
      },
      "execution_count": 16,
      "outputs": []
    },
    {
      "cell_type": "code",
      "source": [
        "polygon_vertices"
      ],
      "metadata": {
        "colab": {
          "base_uri": "https://localhost:8080/"
        },
        "id": "OKtPKOv3QEId",
        "outputId": "eee3e9fb-4053-4223-b7f9-95adafbd9b8e"
      },
      "execution_count": 17,
      "outputs": [
        {
          "output_type": "execute_result",
          "data": {
            "text/plain": [
              "[[37, 81],\n",
              " [4, 67],\n",
              " [58, 135],\n",
              " [38, 74],\n",
              " [67, 104],\n",
              " [51, 88],\n",
              " [61, 7],\n",
              " [40, 44],\n",
              " [25, 47],\n",
              " [41, 96]]"
            ]
          },
          "metadata": {},
          "execution_count": 17
        }
      ]
    },
    {
      "cell_type": "markdown",
      "source": [
        "Now, we need to define a bounding box for that Cartesian Polygon. Following the same logic as before, we can find that bounding box by the min and max values of the coordinates:"
      ],
      "metadata": {
        "id": "5DqqV_HqQp-n"
      }
    },
    {
      "cell_type": "code",
      "source": [
        "# Min and Max coordinates values of Cartesian Polygon\n",
        "xmin_polygon = min(p[0] for p in polygon_vertices)\n",
        "xmax_polygon = max(p[0] for p in polygon_vertices)\n",
        "ymin_polygon = min(p[1] for p in polygon_vertices)\n",
        "ymax_polygon = max(p[1] for p in polygon_vertices)"
      ],
      "metadata": {
        "id": "pW0OYK5CQawI"
      },
      "execution_count": 18,
      "outputs": []
    },
    {
      "cell_type": "markdown",
      "source": [
        "Then, the cartesian bounding box is defined by the xmin,ymin and xmax,ymax coordinates:"
      ],
      "metadata": {
        "id": "B6wkl3zcRjs_"
      }
    },
    {
      "cell_type": "code",
      "source": [
        "# Cartesian bounding box of cartesian polygon\n",
        "polygon_boundingBox = [xmin_polygon, ymin_polygon, xmax_polygon, ymax_polygon]\n",
        "polygon_boundingBox"
      ],
      "metadata": {
        "colab": {
          "base_uri": "https://localhost:8080/"
        },
        "id": "zuJeLkRJRW_R",
        "outputId": "bf1575dd-0d59-4739-81e4-23c9528a7d67"
      },
      "execution_count": 19,
      "outputs": [
        {
          "output_type": "execute_result",
          "data": {
            "text/plain": [
              "[4, 7, 67, 135]"
            ]
          },
          "metadata": {},
          "execution_count": 19
        }
      ]
    },
    {
      "cell_type": "markdown",
      "source": [
        "Now that we have the cartesian bounding box, we can use the defined function to obtain the spherical bounding box for the whole Cartesian Polygon:"
      ],
      "metadata": {
        "id": "YViLHce0aOmi"
      }
    },
    {
      "cell_type": "code",
      "source": [
        "# Calculate the spherical polygon box\n",
        "mysphericalPolygonBox = bbox_to_spherical(polygon_boundingBox)\n",
        "mysphericalPolygonBox"
      ],
      "metadata": {
        "colab": {
          "base_uri": "https://localhost:8080/"
        },
        "id": "m2hOojY8aJu9",
        "outputId": "5a2b4b05-d83c-4275-df4b-dbe59d3841b7"
      },
      "execution_count": 20,
      "outputs": [
        {
          "output_type": "execute_result",
          "data": {
            "text/plain": [
              "[-0.9207758001409693,\n",
              " -0.5125055159212801,\n",
              " -0.08860931698635718,\n",
              " -0.858663087650475,\n",
              " -0.3900776140764566,\n",
              " 0.08401256335017007]"
            ]
          },
          "metadata": {},
          "execution_count": 20
        }
      ]
    },
    {
      "cell_type": "markdown",
      "source": [
        "With this code, we can then proceed to write a script or Classes in order to deal with the problem in an OOP manner. However, I am more familiar with functional programming and data science analysis, and even when I know the theory behind OOP and writing classes, I rather do now complete the spherical_objects.py script as requested since I it would take me more time to refresh concepts and feel confident about writing classes in Python. I would add some comments to the original code that points to the final solution:"
      ],
      "metadata": {
        "id": "CAQw5rBha3Q_"
      }
    },
    {
      "cell_type": "code",
      "source": [
        "# spherical_objects.py\n",
        "import math\n",
        "from typing import List\n",
        "\n",
        "# Lens constants assuming a 1080p image\n",
        "f = 714.285714\n",
        "center = [960, 540]\n",
        "D = 1.082984  # For image-1, switch to 0.871413 for image-2\n",
        "\n",
        "def cartesian2sphere(pt):\n",
        "    x = (pt[0] - center[0]) / f\n",
        "    y = (pt[1] - center[1]) / f\n",
        "\n",
        "    r = math.sqrt(x*x + y*y)\n",
        "    if r != 0:\n",
        "        x /= r\n",
        "        y /= r\n",
        "    r *= D\n",
        "    sin_theta = math.sin(r)\n",
        "    x *= sin_theta\n",
        "    y *= sin_theta\n",
        "    z = math.cos(r)\n",
        "\n",
        "    return [x, y, z]\n",
        "\n",
        "def sphere2cartesian(pt):\n",
        "    r = math.acos(pt[2])\n",
        "    r /= D\n",
        "    if pt[2] != 1:\n",
        "        r /= math.sqrt(1 - pt[2] * pt[2])\n",
        "    x = r * pt[0] * f + center[0]\n",
        "    y = r * pt[1] * f + center[1]\n",
        "    return [x, y]\n",
        "\n",
        "def convert_point(point: List[int]) -> List[int]:\n",
        "    \"\"\"Convert single points between Cartesian and spherical coordinate systems\"\"\"\n",
        "    if len(point) == 2:\n",
        "        return cartesian2sphere(point)\n",
        "    elif len(point) == 3:\n",
        "        return sphere2cartesian(point)\n",
        "    else:\n",
        "        raise ValueError(f'Expected point to be 2 or 3D, got {len(point)} dimensions')\n",
        "\n",
        "class CartesianBbox:\n",
        "\n",
        "    def __init__(self, points: List[int], fmt: str):\n",
        "        # Since the constructor deals with different kinds of format for the bbox, all of those\n",
        "        # formats must be addressed in the code. In my example, only used xyxy format\n",
        "        # But any other format can be converted to xyxy format and then use it as it is\n",
        "        assert fmt in ['xyxy', 'xywh', 'cxcywh'], 'Invalid bbox format'\n",
        "        assert len(points) == 4, 'Cartesian bbox must have 4 values'\n",
        "        self.points = points\n",
        "        self.fmt = fmt\n",
        "\n",
        "\n",
        "class SphericalBbox:\n",
        "\n",
        "    def __init__(self):\n",
        "        # In the constructor, we should define the structure of list of points for the spherical bbox\n",
        "        # In my case, I would use the xyzxyz format for box corners in a similar way\n",
        "        # than the CartesianBox constructor, only adding the z dimension\n",
        "        pass  # Question 1\n",
        "\n",
        "\n",
        "def bbox_to_spherical(cartesian: CartesianBbox) -> SphericalBbox:\n",
        "    # This code would be similar to the function I wrote, only\n",
        "    # dealing correctly with the format and points, and the return the\n",
        "    # spherical box coordinates\n",
        "    pass  # Question 2\n",
        "\n",
        "\n",
        "class CartesianPolygon:\n",
        "\n",
        "    def __init__(self):\n",
        "        # In this part, given the N as parameter, we could receive the \n",
        "        # polygon coordinates as input list, or create a new one\n",
        "        pass  # Question 3\n",
        "\n",
        "\n",
        "class SphericalPolygon:\n",
        "\n",
        "    def __init__(self):\n",
        "        # Here qe would define the spherical polygon similar to the spherical\n",
        "        # box since we only store the rectangle that encloses de polygon\n",
        "        pass  # Question 4\n",
        "\n",
        "\n",
        "def polygon_to_spherical(cartesian: CartesianPolygon) -> SphericalPolygon:\n",
        "    # Here I would calculate the coordinates of the enclosing rectangle for the\n",
        "    # cartesian polygon and then calculate the spherical bounding box for it \n",
        "    # as a final result\n",
        "    pass  # Question 4"
      ],
      "metadata": {
        "id": "VHgEplFCbtus"
      },
      "execution_count": null,
      "outputs": []
    }
  ]
}